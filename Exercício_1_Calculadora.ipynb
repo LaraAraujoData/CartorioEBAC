{
  "nbformat": 4,
  "nbformat_minor": 0,
  "metadata": {
    "colab": {
      "provenance": [],
      "authorship_tag": "ABX9TyNCYzOIIc8cnE/YQ9R6Btjh"
    },
    "kernelspec": {
      "name": "python3",
      "display_name": "Python 3"
    },
    "language_info": {
      "name": "python"
    }
  },
  "cells": [
    {
      "cell_type": "code",
      "execution_count": null,
      "metadata": {
        "id": "Cr5lpMa9HzEk"
      },
      "outputs": [],
      "source": [
        "while True:\n",
        "    try:\n",
        "        # Estabelecendo as operações que o usuário deseja criar\n",
        "        num1 = float(input(\"Bem vindo a calculadora! Digite o primeiro número da operação:\"))\n",
        "        num2 = float(input(\"Ótimo! Agora digite o segundo número da operação:\"))\n",
        "        operacao = input(\"Para soma digite '+', para subtração digite '-', para multiplicação digite '*' e para divisão digite '/':\")\n",
        "\n",
        "        # Estabelecendo os critérios das operações desejadas\n",
        "        if operacao == \"+\":\n",
        "            resultado = num1 + num2\n",
        "            print(f\"O resultado da operação que você digitou é: {resultado:.2f}.\")\n",
        "        elif operacao == \"-\":\n",
        "            resultado = num1 - num2\n",
        "            print(f\"O resultado da operação que você digitou é: {resultado:.2f}.\")\n",
        "        elif operacao == \"*\":\n",
        "            resultado = num1 * num2\n",
        "            print(f\"O resultado da operação que você digitou é: {resultado:.2f}.\")\n",
        "        elif operacao == \"/\":\n",
        "            if num2 == 0:\n",
        "                print(\"Atenção, operação inválida, tente novamente!\")\n",
        "            else:\n",
        "                resultado = num1 / num2\n",
        "                print(f\"O resultado da operação que você digitou é: {resultado:.2f}.\")\n",
        "        else:\n",
        "            print(\"Operação inválida! Por favor, digite uma das operações válidas: +, -, *, /.\")\n",
        "\n",
        "        # Estabelecendo continuidade com o usuário:\n",
        "        repetir = input(\"Gostaria de realizar outra operação? Digite 's' para sim e 'n' para não\").strip().lower() ##garantindo respostas sem espaços e sem maiusculos\n",
        "        if repetir == 'n':\n",
        "          print(\"Calculadora Encerrada! Até a próxima (:\")\n",
        "          break\n",
        "        else:\n",
        "          continue\n",
        "    except ValueError:\n",
        "        print(\"Entrada inválida! Por favor, digite números válidos.\")"
      ]
    }
  ]
}